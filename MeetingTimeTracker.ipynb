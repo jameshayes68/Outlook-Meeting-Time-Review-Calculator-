{
 "cells": [
  {
   "cell_type": "markdown",
   "metadata": {},
   "source": [
    "# Imports"
   ]
  },
  {
   "cell_type": "code",
   "execution_count": 93,
   "metadata": {},
   "outputs": [],
   "source": [
    "import win32com.client, datetime\n",
    "import pandas as pd"
   ]
  },
  {
   "cell_type": "markdown",
   "metadata": {},
   "source": [
    "# Custom Functions"
   ]
  },
  {
   "cell_type": "code",
   "execution_count": 98,
   "metadata": {},
   "outputs": [],
   "source": [
    "''''This function recalls all meetings for a defined number of days into the past\n",
    "Meeting Subject, Duration and Responce are saved to a dictionary over the applicable\n",
    "time period' '''\n",
    "\n",
    "def getCalendarEntries(days):\n",
    "    Outlook = win32com.client.Dispatch(\"Outlook.Application\")\n",
    "    ns = Outlook.GetNamespace(\"MAPI\")\n",
    "    appointments = ns.GetDefaultFolder(9).Items\n",
    "    appointments.Sort(\"[Start]\")\n",
    "    appointments.IncludeRecurrences = \"True\"\n",
    "    today = datetime.datetime.today()\n",
    "    begin = today - datetime.timedelta(days=days)\n",
    "    begin = begin.date().strftime(\"%m/%d/%Y\")\n",
    "    tomorrow= datetime.timedelta(days=days)+today\n",
    "    end = today.date().strftime(\"%m/%d/%Y\")\n",
    "    appointments = appointments.Restrict(\"[Start] >= '\" +begin+ \"' AND [END] <= '\" +end+ \"'\")\n",
    "    events={'Subject':[],'Duration':[],'ResponseStatus':[]}\n",
    "    for a in appointments:\n",
    "        events['Subject'].append(str(a.Subject))\n",
    "        events['Duration'].append(int(a.Duration))\n",
    "        events['ResponseStatus'].append(int(a.ResponseStatus))\n",
    "    return events"
   ]
  },
  {
   "cell_type": "markdown",
   "metadata": {},
   "source": [
    "# Calculate proportion of working hours spent in meetings"
   ]
  },
  {
   "cell_type": "code",
   "execution_count": null,
   "metadata": {},
   "outputs": [],
   "source": [
    "days = 5 # Specify the quantity of days you want to go back"
   ]
  },
  {
   "cell_type": "code",
   "execution_count": 99,
   "metadata": {},
   "outputs": [
    {
     "name": "stdout",
     "output_type": "stream",
     "text": [
      "\n",
      "0.2076522435897436\n"
     ]
    }
   ],
   "source": [
    "events = getCalendarEntries(days)\n",
    "df = pd.DataFrame.from_dict(events, orient='index').T\n",
    "df = df.drop(df[df.ResponseStatus!=3].index) # Only consider meetings that have accepted\n",
    "df = df.drop(df[df.Subject==''].index) # Only consider meetings that have a title\n",
    "\n",
    "TotalMeetingHours =(df['Duration'].sum())/60\n",
    "WorkingHours = days*(260/365)*8\n",
    "\n",
    "print(TotalMeetingHours/WorkingHours)"
   ]
  },
  {
   "cell_type": "code",
   "execution_count": null,
   "metadata": {},
   "outputs": [],
   "source": []
  }
 ],
 "metadata": {
  "kernelspec": {
   "display_name": "Python 3",
   "language": "python",
   "name": "python3"
  },
  "language_info": {
   "codemirror_mode": {
    "name": "ipython",
    "version": 3
   },
   "file_extension": ".py",
   "mimetype": "text/x-python",
   "name": "python",
   "nbconvert_exporter": "python",
   "pygments_lexer": "ipython3",
   "version": "3.6.3"
  }
 },
 "nbformat": 4,
 "nbformat_minor": 2
}
